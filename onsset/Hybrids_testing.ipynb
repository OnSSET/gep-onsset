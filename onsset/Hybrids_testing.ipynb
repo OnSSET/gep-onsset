{
 "cells": [
  {
   "cell_type": "code",
   "execution_count": 1,
   "metadata": {
    "scrolled": false
   },
   "outputs": [],
   "source": [
    "from hybrids_pv import *\n",
    "import matplotlib.pyplot as plt\n",
    "import numpy as np\n",
    "import pandas as pd\n",
    "import math\n",
    "import time\n",
    "import pyswarms as ps\n",
    "from pyswarms.utils.plotters import (plot_cost_history, plot_contour, plot_surface)\n",
    "from pyswarms.utils.plotters.formatters import Mesher\n",
    "\n",
    "# %matplotlib inline"
   ]
  },
  {
   "cell_type": "code",
   "execution_count": 50,
   "metadata": {
    "scrolled": false
   },
   "outputs": [],
   "source": [
    "ghi, temp = read_environmental_data(r'C:\\GitHub\\OnSSET\\Results\\sl-2-pv.csv')\n",
    "hours = np.arange(8760)\n",
    "start_year = 2025\n",
    "end_year = 2030"
   ]
  },
  {
   "cell_type": "markdown",
   "metadata": {},
   "source": [
    "### Technology costs"
   ]
  },
  {
   "cell_type": "code",
   "execution_count": 51,
   "metadata": {
    "scrolled": false
   },
   "outputs": [],
   "source": [
    "diesel_cost=897  # diesel generator capital cost, USD/kW rated power\n",
    "discount_rate=0.08\n",
    "n_chg=0.92  # charge efficiency of battery\n",
    "n_dis=0.92  # discharge efficiency of battery\n",
    "battery_cost=139  # battery capital capital cost, USD/kWh of storage capacity\n",
    "pv_cost=810  # PV panel capital cost, USD/kW peak power\n",
    "pv_life=25  # PV panel expected lifetime, years\n",
    "diesel_life=10  # diesel generator expected lifetime, years\n",
    "pv_om=0.015  # annual OM cost of PV panels\n",
    "diesel_om=0.1  # annual OM cost of diesel generator\n",
    "inverter_cost=120\n",
    "inverter_life=10\n",
    "dod_max = 0.8  # maximum depth of discharge of battery\n",
    "inv_eff=0.92  # inverter_efficiency\n",
    "charge_controller=142\n",
    "\n",
    "lpsp_max=0.02  # maximum loss of load allowed over the year, in share of kWh\n",
    "diesel_limit = 0.5"
   ]
  },
  {
   "cell_type": "markdown",
   "metadata": {},
   "source": [
    "### Settlement information "
   ]
  },
  {
   "cell_type": "code",
   "execution_count": 52,
   "metadata": {
    "scrolled": false
   },
   "outputs": [],
   "source": [
    "settlement = {'ghi': 2300,  # Annual solar resource (kWh/m2)\n",
    "              'diesel_price': 0.3,  # Diesel fuel price (USD/l) including transport cost\n",
    "              'tier': 1,  # Demand Tier of the MTF\n",
    "              'energy_demand': 100000}  # Annual electricity demand (kWh/year)\n",
    "\n",
    "settlement_2 = {'ghi': 2300,  # Annual solar resource (kWh/m2)\n",
    "              'diesel_price': 0.3,  # Diesel fuel price (USD/l) including transport cost\n",
    "              'tier': 3,  # Demand Tier of the MTF\n",
    "              'energy_demand': 100000}  # Annual electricity demand (kWh/year)\n",
    "\n",
    "settlement_3 = {'ghi': 2300,  # Annual solar resource (kWh/m2)\n",
    "              'diesel_price': 0.3,  # Diesel fuel price (USD/l) including transport cost\n",
    "              'tier': 5,  # Demand Tier of the MTF\n",
    "              'energy_demand': 100000}  # Annual electricity demand (kWh/year)"
   ]
  },
  {
   "cell_type": "markdown",
   "metadata": {},
   "source": [
    "# Comparison of configurations"
   ]
  },
  {
   "cell_type": "code",
   "execution_count": 53,
   "metadata": {},
   "outputs": [],
   "source": [
    "pv_sizes = 15\n",
    "diesel_sizes = 15\n",
    "battery_sizes = [0.25, 1, 2, 3] #, 2, 3]"
   ]
  },
  {
   "cell_type": "code",
   "execution_count": 6,
   "metadata": {},
   "outputs": [
    {
     "ename": "ValueError",
     "evalue": "too many values to unpack (expected 7)",
     "output_type": "error",
     "traceback": [
      "\u001b[1;31m---------------------------------------------------------------------------\u001b[0m",
      "\u001b[1;31mValueError\u001b[0m                                Traceback (most recent call last)",
      "\u001b[1;32m~\\AppData\\Local\\Temp/ipykernel_31500/3060512215.py\u001b[0m in \u001b[0;36m<module>\u001b[1;34m\u001b[0m\n\u001b[1;32m----> 1\u001b[1;33m outputs = pv_diesel_hybrid(settlement['energy_demand'], settlement['ghi'], ghi, temp, settlement['tier'], start_year, end_year, \n\u001b[0m\u001b[0;32m      2\u001b[0m                             settlement['diesel_price'], pv_no=pv_sizes, diesel_no=diesel_sizes, battery_sizes=battery_sizes, array_output=True)\n",
      "\u001b[1;32mC:\\GitHub\\OnSSET\\onsset\\hybrids_pv.py\u001b[0m in \u001b[0;36mpv_diesel_hybrid\u001b[1;34m(energy_per_hh, ghi, ghi_curve, temp, tier, start_year, end_year, diesel_price, chg_max, dschg_max, kibam_c, kibam_k, max_cycles, dod_max, diesel_cost, pv_no, diesel_no, discount_rate, n_chg, n_dis, lpsp_max, battery_cost, pv_cost, pv_life, diesel_life, pv_om, diesel_om, inverter_cost, inverter_life, inv_eff, charge_controller, battery_sizes, diesel_limit, array_output)\u001b[0m\n\u001b[0;32m    467\u001b[0m                 \u001b[0mconfiguration\u001b[0m \u001b[1;33m=\u001b[0m \u001b[1;33m[\u001b[0m\u001b[0mpv_size\u001b[0m\u001b[1;33m,\u001b[0m \u001b[0mbattery_capacity\u001b[0m\u001b[1;33m,\u001b[0m \u001b[0mdiesel_size\u001b[0m\u001b[1;33m]\u001b[0m\u001b[1;33m\u001b[0m\u001b[1;33m\u001b[0m\u001b[0m\n\u001b[0;32m    468\u001b[0m \u001b[1;33m\u001b[0m\u001b[0m\n\u001b[1;32m--> 469\u001b[1;33m                 lcoe, lpsp, diesel_share, investment, battery_investment, fuel_cost, om_cost = find_least_cost_option(configuration,\n\u001b[0m\u001b[0;32m    470\u001b[0m                                                                               \u001b[0mtemp\u001b[0m\u001b[1;33m,\u001b[0m \u001b[0mghi\u001b[0m\u001b[1;33m,\u001b[0m \u001b[0mhour_numbers\u001b[0m\u001b[1;33m,\u001b[0m\u001b[1;33m\u001b[0m\u001b[1;33m\u001b[0m\u001b[0m\n\u001b[0;32m    471\u001b[0m                                                                               \u001b[0mload_curve\u001b[0m\u001b[1;33m,\u001b[0m \u001b[0minv_eff\u001b[0m\u001b[1;33m,\u001b[0m \u001b[0mn_dis\u001b[0m\u001b[1;33m,\u001b[0m \u001b[0mn_chg\u001b[0m\u001b[1;33m,\u001b[0m\u001b[1;33m\u001b[0m\u001b[1;33m\u001b[0m\u001b[0m\n",
      "\u001b[1;31mValueError\u001b[0m: too many values to unpack (expected 7)"
     ]
    }
   ],
   "source": [
    "outputs = pv_diesel_hybrid(settlement['energy_demand'], settlement['ghi'], ghi, temp, settlement['tier'], start_year, end_year, \n",
    "                            settlement['diesel_price'], pv_no=pv_sizes, diesel_no=diesel_sizes, battery_sizes=battery_sizes, array_output=True)"
   ]
  },
  {
   "cell_type": "code",
   "execution_count": null,
   "metadata": {},
   "outputs": [],
   "source": [
    "from mpl_toolkits.axes_grid1 import make_axes_locatable\n",
    "data = outputs[-4]\n",
    "\n",
    "fig = plt.figure()\n",
    "ax = fig.add_subplot(projection='3d')\n",
    "\n",
    "z, x, y = data.nonzero()\n",
    "p = ax.scatter(x, y, z, c=data, alpha=1, cmap='plasma_r')\n",
    "\n",
    "ax.set_xlabel('PV panel capacity (kW)')\n",
    "ax.set_ylabel('Diesel gen capacity (kW)')\n",
    "ax.set_zlabel('Days of battery storage')\n",
    "\n",
    "#xticks = outputs[-3]\n",
    "#xlabels = list(np.around(np.array(xticks)))\n",
    "#ax.set_xticklabels(xlabels)\n",
    "\n",
    "yticks = outputs[-2]\n",
    "\n",
    "zticks = outputs[-1]\n",
    "#zlabels = list(np.around(np.array(zticks)))\n",
    "#ax.set_zticklabels(zlabels)\n",
    "\n",
    "fig.colorbar(p, pad=0.2, label='LCOE')\n",
    "plt.show()\n"
   ]
  },
  {
   "cell_type": "code",
   "execution_count": null,
   "metadata": {},
   "outputs": [],
   "source": []
  },
  {
   "cell_type": "markdown",
   "metadata": {},
   "source": [
    "#  Current \"brute-force\" simulation approach"
   ]
  },
  {
   "cell_type": "markdown",
   "metadata": {},
   "source": [
    "### Search space parameters"
   ]
  },
  {
   "cell_type": "code",
   "execution_count": null,
   "metadata": {
    "scrolled": false
   },
   "outputs": [],
   "source": [
    "# battery_sizes = np.linspace(0.1, 3, steps).tolist()\n",
    "diesel_and_pv_steps = [5, 10, 15, 20, 30, 40, 50] #, 75] #, 100] #, 200] # , 300, 400, 500] #, 750, 1000]"
   ]
  },
  {
   "cell_type": "code",
   "execution_count": null,
   "metadata": {
    "scrolled": false
   },
   "outputs": [],
   "source": [
    "system_configurations = []\n",
    "system_configurations_log = []\n",
    "LCOE = []\n",
    "Investment = []\n",
    "PV_Capacity = []\n",
    "Diesel_Capacity = []\n",
    "Battery_capacity = []\n",
    "Renewable_share = []\n",
    "brute_force_simulation_time = []\n",
    "brute_force_simulation_time_2 = []\n",
    "brute_force_simulation_time_3 = []\n",
    "\n",
    "system_configurations_2 = []\n",
    "system_configurations_log_2 = []\n",
    "LCOE_2 = []\n",
    "Investment_2 = []\n",
    "PV_Capacity_2 = []\n",
    "Diesel_Capacity_2 = []\n",
    "Battery_capacity_2 = []\n",
    "Renewable_share_2 = []\n",
    "\n",
    "system_configurations_3 = []\n",
    "system_configurations_log_3 = []\n",
    "LCOE_3 = []\n",
    "Investment_3 = []\n",
    "PV_Capacity_3 = []\n",
    "Diesel_Capacity_3 = []\n",
    "Battery_capacity_3 = []\n",
    "Renewable_share_3 = []\n",
    "\n",
    "\n",
    "\n",
    "for i in diesel_and_pv_steps:\n",
    "    j = max(5, round(i / 10) + 1)\n",
    "    battery_sizes = np.linspace(0.25, 3, i).tolist()\n",
    "    t1 = time.time()\n",
    "    lcoe = pv_diesel_hybrid(settlement['energy_demand'], settlement['ghi'], ghi, temp, settlement['tier'], start_year, end_year, \n",
    "                            settlement['diesel_price'], pv_no=i, diesel_no=i, battery_sizes=battery_sizes)\n",
    "    t2 = time.time()\n",
    "    lcoe_2 = pv_diesel_hybrid(settlement_2['energy_demand'], settlement_2['ghi'], ghi, temp, settlement_2['tier'], start_year, end_year, \n",
    "                            settlement_2['diesel_price'], pv_no=i, diesel_no=i, battery_sizes=battery_sizes)\n",
    "    t3 = time.time()\n",
    "        \n",
    "    lcoe_3 = pv_diesel_hybrid(settlement_3['energy_demand'], settlement_3['ghi'], ghi, temp, settlement_3['tier'], start_year, end_year, \n",
    "                            settlement_3['diesel_price'], pv_no=i, diesel_no=i, battery_sizes=battery_sizes)\n",
    "    t4 = time.time()\n",
    "\n",
    "    system_configurations.append(lcoe[6])\n",
    "    LCOE.append(lcoe[0])\n",
    "    Investment.append(lcoe[1])\n",
    "    PV_Capacity.append(lcoe[2])\n",
    "    Diesel_Capacity.append(lcoe[3])\n",
    "    Battery_capacity.append(lcoe[4])\n",
    "    Renewable_share.append(lcoe[5])\n",
    "    brute_force_simulation_time.append(t2-t1)\n",
    "    \n",
    "    system_configurations_2.append(lcoe_2[6])\n",
    "    LCOE_2.append(lcoe_2[0])\n",
    "    Investment_2.append(lcoe_2[1])\n",
    "    PV_Capacity_2.append(lcoe_2[2])\n",
    "    Diesel_Capacity_2.append(lcoe_2[3])\n",
    "    Battery_capacity_2.append(lcoe_2[4])\n",
    "    Renewable_share_2.append(lcoe_2[5])\n",
    "    brute_force_simulation_time_2.append(t3-t2)\n",
    "    \n",
    "    system_configurations_3.append(lcoe_3[6])\n",
    "    LCOE_3.append(lcoe_3[0])\n",
    "    Investment_3.append(lcoe_3[1])\n",
    "    PV_Capacity_3.append(lcoe_3[2])\n",
    "    Diesel_Capacity_3.append(lcoe_3[3])\n",
    "    Battery_capacity_3.append(lcoe_3[4])\n",
    "    Renewable_share_3.append(lcoe_3[5])\n",
    "    brute_force_simulation_time_3.append(t4-t3)"
   ]
  },
  {
   "cell_type": "code",
   "execution_count": null,
   "metadata": {
    "scrolled": false
   },
   "outputs": [],
   "source": [
    "plt.plot(system_configurations, LCOE, marker='x')\n",
    "plt.plot(system_configurations, LCOE_2, marker='x')\n",
    "plt.plot(system_configurations, LCOE_3, marker='x')\n",
    "\n",
    "plt.title('Levelized Cost of Generating Electricity')\n",
    "plt.ylim([0, max(LCOE)*1.25])\n",
    "plt.xlabel('Number of configurations simulated')"
   ]
  },
  {
   "cell_type": "code",
   "execution_count": null,
   "metadata": {
    "scrolled": false
   },
   "outputs": [],
   "source": [
    "plt.plot(system_configurations, Investment, marker='x')\n",
    "plt.plot(system_configurations, Investment_2, marker='x')\n",
    "plt.plot(system_configurations, Investment_3, marker='x')\n",
    "\n",
    "plt.title('Investment (USD)')\n",
    "plt.ylim([0, max(Investment)*1.25])\n",
    "plt.xlabel('Number of configurations simulated')"
   ]
  },
  {
   "cell_type": "code",
   "execution_count": null,
   "metadata": {
    "scrolled": false
   },
   "outputs": [],
   "source": [
    "plt.plot(system_configurations, PV_Capacity, marker='x')\n",
    "plt.plot(system_configurations, PV_Capacity_2, marker='x')\n",
    "plt.plot(system_configurations, PV_Capacity_3, marker='x')\n",
    "\n",
    "plt.title('PV capacity (kW)')\n",
    "plt.ylim([0, max(PV_Capacity)*1.25])\n",
    "plt.xlabel('Number of configurations simulated')"
   ]
  },
  {
   "cell_type": "code",
   "execution_count": null,
   "metadata": {
    "scrolled": false
   },
   "outputs": [],
   "source": [
    "plt.plot(system_configurations, Diesel_Capacity, marker='x')\n",
    "plt.plot(system_configurations, Diesel_Capacity_2, marker='x')\n",
    "plt.plot(system_configurations, Diesel_Capacity_3, marker='x')\n",
    "\n",
    "plt.title('Diesel capacity (kW)')\n",
    "plt.ylim([0, max(Diesel_Capacity)*1.25])\n",
    "plt.xlabel('Number of configurations simulated')"
   ]
  },
  {
   "cell_type": "code",
   "execution_count": null,
   "metadata": {
    "scrolled": false
   },
   "outputs": [],
   "source": [
    "plt.plot(system_configurations, Battery_capacity, marker='x')\n",
    "plt.plot(system_configurations, Battery_capacity_2, marker='x')\n",
    "plt.plot(system_configurations, Battery_capacity_3, marker='x')\n",
    "\n",
    "plt.title('Battery investment (USD)')\n",
    "plt.ylim([0, max(Battery_capacity)*1.25])\n",
    "plt.xlabel('Number of configurations simulated')"
   ]
  },
  {
   "cell_type": "code",
   "execution_count": null,
   "metadata": {
    "scrolled": true
   },
   "outputs": [],
   "source": [
    "for s,t,l,b in zip(system_configurations, brute_force_simulation_time_2, LCOE_2, Battery_capacity_2):\n",
    "    print('BF ran {} simulations in {} sec and found optimal LCOE at {} USD/kWh and battery inv. of {}k USD'.format(s, round(t,1), round(l, 3), round(b/1000,1)))"
   ]
  },
  {
   "cell_type": "markdown",
   "metadata": {},
   "source": [
    "# Alternative approach using Particle Swarm Optimization (PSO)\n",
    "\n",
    "Using the open source PySwarms package (https://pyswarms.readthedocs.io/en/latest/intro.html)"
   ]
  },
  {
   "cell_type": "code",
   "execution_count": null,
   "metadata": {
    "scrolled": false
   },
   "outputs": [],
   "source": []
  },
  {
   "cell_type": "code",
   "execution_count": 54,
   "metadata": {
    "scrolled": false
   },
   "outputs": [],
   "source": [
    "ghi_local_1 = ghi * settlement['ghi'] * 1000 / ghi.sum()\n",
    "ghi_local_2 = ghi * settlement_2['ghi'] * 1000 / ghi.sum()\n",
    "ghi_local_3 = ghi * settlement_3['ghi'] * 1000 / ghi.sum()\n",
    "\n",
    "hour_numbers = np.empty(8760)\n",
    "for i in prange(365):\n",
    "    for j in prange(24):\n",
    "        hour_numbers[i * 24 + j] = j\n",
    "\n",
    "load_curve_1 = calc_load_curve(settlement['tier'], settlement['energy_demand'])\n",
    "load_curve_2 = calc_load_curve(settlement_2['tier'], settlement_2['energy_demand'])\n",
    "load_curve_3 = calc_load_curve(settlement_3['tier'], settlement_3['energy_demand'])"
   ]
  },
  {
   "cell_type": "code",
   "execution_count": 55,
   "metadata": {
    "scrolled": false
   },
   "outputs": [],
   "source": [
    "pv_min = 0\n",
    "battery_min_1 = 0.25 * (settlement['energy_demand'] / 365)\n",
    "battery_min_2 = 0.25 * (settlement_2['energy_demand'] / 365)\n",
    "battery_min_3 = 0.25 * (settlement_3['energy_demand'] / 365)\n",
    "diesel_min = 0.5\n",
    "min_bounds_1 = np.array([pv_min, battery_min_1, diesel_min])\n",
    "min_bounds_2 = np.array([pv_min, battery_min_2, diesel_min])\n",
    "min_bounds_3 = np.array([pv_min, battery_min_3, diesel_min])\n",
    "min_bounds_10 = np.array([pv_min, 0, diesel_min])\n",
    "min_bounds_20 = np.array([pv_min, 0, diesel_min])\n",
    "min_bounds_30 = np.array([pv_min, 0, diesel_min])\n",
    "\n",
    "pv_max_1 = 5 * load_curve_1[19]\n",
    "pv_max_2 = 5 * load_curve_2[19]\n",
    "pv_max_3 = 5 * load_curve_3[19]\n",
    "battery_max_1 = 5 * (settlement['energy_demand'] / 365)\n",
    "battery_max_2 = 5 * (settlement_2['energy_demand'] / 365)\n",
    "battery_max_3 = 5 * (settlement_3['energy_demand'] / 365)\n",
    "diesel_max_1 = max(load_curve_1)\n",
    "diesel_max_2 = max(load_curve_2)\n",
    "diesel_max_3 = max(load_curve_3)\n",
    "\n",
    "max_bounds_1 = np.array([pv_max_1, battery_max_1, diesel_max_1])\n",
    "max_bounds_2 = np.array([pv_max_2, battery_max_2, diesel_max_2])\n",
    "max_bounds_3 = np.array([pv_max_3, battery_max_3, diesel_max_3])\n",
    "max_bounds_10 = np.array([pv_max_1, 0, diesel_max_1])\n",
    "max_bounds_20 = np.array([pv_max_2, 0, diesel_max_2])\n",
    "max_bounds_30 = np.array([pv_max_3, 0, diesel_max_3])\n",
    "\n",
    "bounds_1 = (min_bounds_1, max_bounds_1)\n",
    "bounds_2 = (min_bounds_2, max_bounds_2)\n",
    "bounds_3 = (min_bounds_3, max_bounds_3)\n",
    "bounds_10 = (min_bounds_10, max_bounds_10)\n",
    "bounds_20 = (min_bounds_20, max_bounds_20)\n",
    "bounds_30 = (min_bounds_30, max_bounds_30)"
   ]
  },
  {
   "cell_type": "code",
   "execution_count": 56,
   "metadata": {
    "scrolled": false
   },
   "outputs": [],
   "source": [
    "options = {'c1': 0.5, 'c2': 0.3, 'w':0.9}\n",
    "optimizer_1 = ps.single.GlobalBestPSO(n_particles=100, dimensions=3, options=options, bounds=bounds_1)\n",
    "optimizer_2 = ps.single.GlobalBestPSO(n_particles=100, dimensions=3, options=options, bounds=bounds_2)\n",
    "optimizer_3 = ps.single.GlobalBestPSO(n_particles=100, dimensions=3, options=options, bounds=bounds_3)\n",
    "\n",
    "optimizer_1_0 = ps.single.GlobalBestPSO(n_particles=100, dimensions=3, options=options, bounds=bounds_10)\n",
    "optimizer_2_0 = ps.single.GlobalBestPSO(n_particles=100, dimensions=3, options=options, bounds=bounds_20)\n",
    "optimizer_3_0 = ps.single.GlobalBestPSO(n_particles=100, dimensions=3, options=options, bounds=bounds_30)"
   ]
  },
  {
   "cell_type": "code",
   "execution_count": 57,
   "metadata": {
    "scrolled": false
   },
   "outputs": [],
   "source": [
    "def opt_func_1(X):\n",
    "    n_particles = X.shape[0]\n",
    "    lcoe = [find_least_cost_option(X[i], temp, ghi_local_1, hour_numbers,\n",
    "                              load_curve_1, inv_eff, n_dis, n_chg, dod_max, settlement['energy_demand'], settlement['diesel_price'],\n",
    "                              end_year, start_year, pv_cost, charge_controller, pv_om, diesel_cost,\n",
    "                              diesel_om, inverter_life, inverter_cost, diesel_life, pv_life, battery_cost, discount_rate, lpsp_max, diesel_limit) for i in range (n_particles)]\n",
    "    return np.array(lcoe)\n",
    "\n",
    "def opt_func_10(X):\n",
    "    n_particles = X.shape[0]\n",
    "    lcoe = [find_least_cost_option(X[i], temp, ghi_local_1, hour_numbers,\n",
    "                              load_curve_1, inv_eff, n_dis, n_chg, dod_max, settlement['energy_demand'], settlement['diesel_price'],\n",
    "                              end_year, start_year, pv_cost, charge_controller, pv_om, diesel_cost,\n",
    "                              diesel_om, inverter_life, inverter_cost, diesel_life, pv_life, battery_cost, discount_rate, lpsp_max, 1) for i in range (n_particles)]\n",
    "    return np.array(lcoe)\n",
    "\n",
    "\n",
    "def opt_func_2(X):\n",
    "    n_particles = X.shape[0]\n",
    "    lcoe = [find_least_cost_option(X[i], temp, ghi_local_2, hour_numbers,\n",
    "                              load_curve_2, inv_eff, n_dis, n_chg, dod_max, settlement_2['energy_demand'], settlement_2['diesel_price'],\n",
    "                              end_year, start_year, pv_cost, charge_controller, pv_om, diesel_cost,\n",
    "                              diesel_om, inverter_life, inverter_cost, diesel_life, pv_life, battery_cost, discount_rate, lpsp_max, diesel_limit) for i in range (n_particles)]\n",
    "    return np.array(lcoe)\n",
    "\n",
    "def opt_func_20(X):\n",
    "    n_particles = X.shape[0]\n",
    "    lcoe = [find_least_cost_option(X[i], temp, ghi_local_2, hour_numbers,\n",
    "                              load_curve_2, inv_eff, n_dis, n_chg, dod_max, settlement_2['energy_demand'], settlement_2['diesel_price'],\n",
    "                              end_year, start_year, pv_cost, charge_controller, pv_om, diesel_cost,\n",
    "                              diesel_om, inverter_life, inverter_cost, diesel_life, pv_life, battery_cost, discount_rate, lpsp_max, 1) for i in range (n_particles)]\n",
    "    return np.array(lcoe)\n",
    "\n",
    "def opt_func_3(X):\n",
    "    n_particles = X.shape[0]\n",
    "    lcoe = [find_least_cost_option(X[i], temp, ghi_local_3, hour_numbers,\n",
    "                              load_curve_3, inv_eff, n_dis, n_chg, dod_max, settlement_3['energy_demand'], settlement_3['diesel_price'],\n",
    "                              end_year, start_year, pv_cost, charge_controller, pv_om, diesel_cost,\n",
    "                              diesel_om, inverter_life, inverter_cost, diesel_life, pv_life, battery_cost, discount_rate, lpsp_max, diesel_limit) for i in range (n_particles)]\n",
    "    return np.array(lcoe)\n",
    "\n",
    "def opt_func_30(X):\n",
    "    n_particles = X.shape[0]\n",
    "    lcoe = [find_least_cost_option(X[i], temp, ghi_local_3, hour_numbers,\n",
    "                              load_curve_3, inv_eff, n_dis, n_chg, dod_max, settlement_3['energy_demand'], settlement_3['diesel_price'],\n",
    "                              end_year, start_year, pv_cost, charge_controller, pv_om, diesel_cost,\n",
    "                              diesel_om, inverter_life, inverter_cost, diesel_life, pv_life, battery_cost, discount_rate, lpsp_max, 1) for i in range (n_particles)]\n",
    "    return np.array(lcoe)"
   ]
  },
  {
   "cell_type": "code",
   "execution_count": null,
   "metadata": {
    "scrolled": true
   },
   "outputs": [],
   "source": [
    "cost_1, pos_1 = optimizer_1.optimize(opt_func_1, iters=1000)\n",
    "cost_2, pos_2 = optimizer_2.optimize(opt_func_2, iters=1000)\n",
    "cost_3, pos_3 = optimizer_3.optimize(opt_func_3, iters=1000)"
   ]
  },
  {
   "cell_type": "code",
   "execution_count": null,
   "metadata": {},
   "outputs": [],
   "source": [
    "swarm_out_1 = find_least_cost_option(pos_1, temp, ghi_local_1, hour_numbers,\n",
    "                              load_curve_1, inv_eff, n_dis, n_chg, dod_max, settlement['energy_demand'], settlement['diesel_price'],\n",
    "                              end_year, start_year, pv_cost, charge_controller, pv_om, diesel_cost,\n",
    "                              diesel_om, inverter_life, inverter_cost, diesel_life, pv_life, battery_cost, discount_rate, lpsp_max, diesel_limit, simple=False)\n",
    "\n",
    "swarm_out_2 = find_least_cost_option(pos_2, temp, ghi_local_2, hour_numbers,\n",
    "                              load_curve_2, inv_eff, n_dis, n_chg, dod_max, settlement_2['energy_demand'], settlement_2['diesel_price'],\n",
    "                              end_year, start_year, pv_cost, charge_controller, pv_om, diesel_cost,\n",
    "                              diesel_om, inverter_life, inverter_cost, diesel_life, pv_life, battery_cost, discount_rate, lpsp_max, diesel_limit, simple=False)\n",
    "\n",
    "swarm_out_3 = find_least_cost_option(pos_3, temp, ghi_local_3, hour_numbers,\n",
    "                              load_curve_3, inv_eff, n_dis, n_chg, dod_max, settlement_3['energy_demand'], settlement_3['diesel_price'],\n",
    "                              end_year, start_year, pv_cost, charge_controller, pv_om, diesel_cost,\n",
    "                              diesel_om, inverter_life, inverter_cost, diesel_life, pv_life, battery_cost, discount_rate, lpsp_max, diesel_limit, simple=False)"
   ]
  },
  {
   "cell_type": "code",
   "execution_count": null,
   "metadata": {
    "scrolled": true
   },
   "outputs": [],
   "source": [
    "print('Settlement 1')\n",
    "print('Brute force approach')\n",
    "print('LCOE: ' + str(round(LCOE[-1],3)))\n",
    "print('PV Capacity (kW): ' + str(round(PV_Capacity[-1],1)))\n",
    "print('Diesel Capacity (kW): ' + str(round(Diesel_Capacity[-1],1)))\n",
    "print('Battery capacity (kWh): ' + str(round(Battery_capacity[-1], 1)))\n",
    "print('')\n",
    "print('Particle Swarm Optimization')\n",
    "print('LCOE: ' + str(round(cost_1,3)))\n",
    "print('PV Capacity (kW): ' + str(round(pos_1[0],1)))\n",
    "print('Diesel Capacity (kW): ' + str(round(pos_1[2],1)))\n",
    "print('Battery capacity (kWh): ' + str(round(swarm_out_1[-1], 1)))\n",
    "print('')\n",
    "print('Settlement 2')\n",
    "print('Brute force approach')\n",
    "print('LCOE: ' + str(round(LCOE_2[-1],3)))\n",
    "print('PV Capacity (kW): ' + str(round(PV_Capacity_2[-1],1)))\n",
    "print('Diesel Capacity (kW): ' + str(round(Diesel_Capacity_2[-1],1)))\n",
    "print('Battery capacity (kWh): ' + str(round(Battery_capacity_2[-1], 1)))\n",
    "print('')\n",
    "print('Particle Swarm Optimization')\n",
    "print('LCOE: ' + str(round(cost_2,3)))\n",
    "print('PV Capacity (kW): ' + str(round(pos_2[0],1)))\n",
    "print('Diesel Capacity (kW): ' + str(round(pos_2[2],1)))\n",
    "print('Battery capacity (kWh): ' + str(round(swarm_out_2[-1], 1)))\n",
    "print('')\n",
    "print('Settlement 3')\n",
    "print('Brute force approach')\n",
    "print('LCOE: ' + str(round(LCOE_3[-1],3)))\n",
    "print('PV Capacity (kW): ' + str(round(PV_Capacity_3[-1],1)))\n",
    "print('Diesel Capacity (kW): ' + str(round(Diesel_Capacity_3[-1],1)))\n",
    "print('Battery capacity (kWh): ' + str(round(Battery_capacity_3[-1], 1)))\n",
    "print('')\n",
    "print('Particle Swarm Optimization')\n",
    "print('LCOE: ' + str(round(cost_3,3)))\n",
    "print('PV Capacity (kW): ' + str(round(pos_3[0],1)))\n",
    "print('Diesel Capacity (kW): ' + str(round(pos_3[2],1)))\n",
    "print('Battery capacity (kWh): ' + str(round(swarm_out_3[-1], 1)))"
   ]
  },
  {
   "cell_type": "markdown",
   "metadata": {},
   "source": [
    "# PSO time benchmarking"
   ]
  },
  {
   "cell_type": "code",
   "execution_count": null,
   "metadata": {
    "scrolled": true
   },
   "outputs": [],
   "source": [
    "options = {'c1': 0.5, 'c2': 0.3, 'w':0.9}\n",
    "\n",
    "optimizer_10 = ps.single.GlobalBestPSO(n_particles=10, dimensions=3, options=options, bounds=bounds_2)\n",
    "optimizer_50 = ps.single.GlobalBestPSO(n_particles=50, dimensions=3, options=options, bounds=bounds_2)\n",
    "optimizer_100 = ps.single.GlobalBestPSO(n_particles=100, dimensions=3, options=options, bounds=bounds_2)\n",
    "\n",
    "t1 =  time.time()\n",
    "cost_10_10, pos_10_10 = optimizer_10.optimize(opt_func_2, iters=10)\n",
    "t_10_10 = time.time() - t1\n",
    "swarm_out_10_10 = find_least_cost_option(pos_10_10, temp, ghi_local_2, hour_numbers,\n",
    "                              load_curve_2, inv_eff, n_dis, n_chg, dod_max, settlement_2['energy_demand'], settlement_2['diesel_price'],\n",
    "                              end_year, start_year, pv_cost, charge_controller, pv_om, diesel_cost,\n",
    "                              diesel_om, inverter_life, inverter_cost, diesel_life, pv_life, battery_cost, discount_rate, lpsp_max, diesel_limit, simple=False)\n",
    "\n",
    "\n",
    "t1 =  time.time()\n",
    "cost_10_100, pos_10_100 = optimizer_10.optimize(opt_func_2, iters=100)\n",
    "t_10_100 = time.time() - t1\n",
    "swarm_out_10_100 = find_least_cost_option(pos_10_100, temp, ghi_local_2, hour_numbers,\n",
    "                              load_curve_2, inv_eff, n_dis, n_chg, dod_max, settlement_2['energy_demand'], settlement_2['diesel_price'],\n",
    "                              end_year, start_year, pv_cost, charge_controller, pv_om, diesel_cost,\n",
    "                              diesel_om, inverter_life, inverter_cost, diesel_life, pv_life, battery_cost, discount_rate, lpsp_max, diesel_limit, simple=False)\n",
    "\n",
    "\n",
    "t1 =  time.time()\n",
    "cost_10_1000, pos_10_1000 = optimizer_10.optimize(opt_func_2, iters=1000)\n",
    "t_10_1000 = time.time() - t1\n",
    "swarm_out_10_1000 = find_least_cost_option(pos_10_1000, temp, ghi_local_2, hour_numbers,\n",
    "                              load_curve_2, inv_eff, n_dis, n_chg, dod_max, settlement_2['energy_demand'], settlement_2['diesel_price'],\n",
    "                              end_year, start_year, pv_cost, charge_controller, pv_om, diesel_cost,\n",
    "                              diesel_om, inverter_life, inverter_cost, diesel_life, pv_life, battery_cost, discount_rate, lpsp_max, diesel_limit, simple=False)\n",
    "\n",
    "t1 =  time.time()\n",
    "cost_50_10, pos_50_10 = optimizer_50.optimize(opt_func_2, iters=10)\n",
    "t_50_10 = time.time() - t1\n",
    "swarm_out_50_10 = find_least_cost_option(pos_50_10, temp, ghi_local_2, hour_numbers,\n",
    "                              load_curve_2, inv_eff, n_dis, n_chg, dod_max, settlement_2['energy_demand'], settlement_2['diesel_price'],\n",
    "                              end_year, start_year, pv_cost, charge_controller, pv_om, diesel_cost,\n",
    "                              diesel_om, inverter_life, inverter_cost, diesel_life, pv_life, battery_cost, discount_rate, lpsp_max, diesel_limit, simple=False)\n",
    "\n",
    "\n",
    "t1 =  time.time()\n",
    "cost_50_100, pos_50_100 = optimizer_50.optimize(opt_func_2, iters=100)\n",
    "t_50_100 = time.time() - t1\n",
    "swarm_out_50_100 = find_least_cost_option(pos_50_100, temp, ghi_local_2, hour_numbers,\n",
    "                              load_curve_2, inv_eff, n_dis, n_chg, dod_max, settlement_2['energy_demand'], settlement_2['diesel_price'],\n",
    "                              end_year, start_year, pv_cost, charge_controller, pv_om, diesel_cost,\n",
    "                              diesel_om, inverter_life, inverter_cost, diesel_life, pv_life, battery_cost, discount_rate, lpsp_max, diesel_limit, simple=False)\n",
    "\n",
    "\n",
    "t1 =  time.time()\n",
    "cost_50_1000, pos_50_1000 = optimizer_50.optimize(opt_func_2, iters=1000)\n",
    "t_50_1000 = time.time() - t1\n",
    "swarm_out_50_1000 = find_least_cost_option(pos_50_1000, temp, ghi_local_2, hour_numbers,\n",
    "                              load_curve_2, inv_eff, n_dis, n_chg, dod_max, settlement_2['energy_demand'], settlement_2['diesel_price'],\n",
    "                              end_year, start_year, pv_cost, charge_controller, pv_om, diesel_cost,\n",
    "                              diesel_om, inverter_life, inverter_cost, diesel_life, pv_life, battery_cost, discount_rate, lpsp_max, diesel_limit, simple=False)\n",
    "\n",
    "t1 =  time.time()\n",
    "cost_100_10, pos_100_10 = optimizer_100.optimize(opt_func_2, iters=10)\n",
    "t_100_10 = time.time() - t1\n",
    "swarm_out_100_10 = find_least_cost_option(pos_100_10, temp, ghi_local_2, hour_numbers,\n",
    "                              load_curve_2, inv_eff, n_dis, n_chg, dod_max, settlement_2['energy_demand'], settlement_2['diesel_price'],\n",
    "                              end_year, start_year, pv_cost, charge_controller, pv_om, diesel_cost,\n",
    "                              diesel_om, inverter_life, inverter_cost, diesel_life, pv_life, battery_cost, discount_rate, lpsp_max, diesel_limit, simple=False)\n",
    "\n",
    "\n",
    "t1 =  time.time()\n",
    "cost_100_100, pos_100_100 = optimizer_100.optimize(opt_func_2, iters=100)\n",
    "t_100_100 = time.time() - t1\n",
    "swarm_out_100_100 = find_least_cost_option(pos_100_100, temp, ghi_local_2, hour_numbers,\n",
    "                              load_curve_2, inv_eff, n_dis, n_chg, dod_max, settlement_2['energy_demand'], settlement_2['diesel_price'],\n",
    "                              end_year, start_year, pv_cost, charge_controller, pv_om, diesel_cost,\n",
    "                              diesel_om, inverter_life, inverter_cost, diesel_life, pv_life, battery_cost, discount_rate, lpsp_max, diesel_limit, simple=False)\n",
    "\n",
    "\n",
    "t1 =  time.time()\n",
    "cost_100_1000, pos_100_1000 = optimizer_100.optimize(opt_func_2, iters=1000)\n",
    "t_100_1000 = time.time() - t1\n",
    "swarm_out_100_1000 = find_least_cost_option(pos_100_1000, temp, ghi_local_2, hour_numbers,\n",
    "                              load_curve_2, inv_eff, n_dis, n_chg, dod_max, settlement_2['energy_demand'], settlement_2['diesel_price'],\n",
    "                              end_year, start_year, pv_cost, charge_controller, pv_om, diesel_cost,\n",
    "                              diesel_om, inverter_life, inverter_cost, diesel_life, pv_life, battery_cost, discount_rate, lpsp_max, diesel_limit, simple=False)\n"
   ]
  },
  {
   "cell_type": "code",
   "execution_count": null,
   "metadata": {},
   "outputs": [],
   "source": [
    "particles = [10, 10, 10, 50, 50, 50, 100, 100, 100]\n",
    "iterations = [10, 100, 1000, 10, 100, 1000, 10, 100, 1000]\n",
    "times = [t_10_10, t_10_100, t_10_1000, t_50_10, t_50_100, t_50_1000, t_100_10, t_100_100, t_100_1000]\n",
    "LCOEs = [cost_10_10, cost_10_100, cost_10_1000, cost_50_10, cost_50_100, cost_50_1000, cost_100_10, cost_100_100, cost_100_1000]\n",
    "battery = [round(swarm_out_10_10[-1]/1000,1), round(swarm_out_10_100[-1]/1000,1), round(swarm_out_10_1000[-1]/1000,1),\n",
    "           round(swarm_out_50_10[-1]/1000,1), round(swarm_out_50_100[-1]/1000,1), round(swarm_out_50_1000[-1]/1000,1),\n",
    "           round(swarm_out_100_10[-1]/1000,1), round(swarm_out_100_100[-1]/1000,1), round(swarm_out_100_1000[-1]/1000,1)]"
   ]
  },
  {
   "cell_type": "code",
   "execution_count": null,
   "metadata": {
    "scrolled": true
   },
   "outputs": [],
   "source": [
    "for p, i, t, l, b in zip(particles, iterations, times, LCOEs, battery):\n",
    "    print('PSO with {} particles, {} iterations ran in {} sec. Found optimal LCOE at {} USD/kWh and battery inv. of {}k USD'.format(p, i, round(t, 1), round(l, 3), b))"
   ]
  },
  {
   "cell_type": "markdown",
   "metadata": {},
   "source": [
    "# Comparison with and without battery - Settlement 2"
   ]
  },
  {
   "cell_type": "code",
   "execution_count": 58,
   "metadata": {},
   "outputs": [],
   "source": [
    "optimizer_50_with = ps.single.GlobalBestPSO(n_particles=50, dimensions=3, options=options, bounds=bounds_2)\n",
    "optimizer_50_without = ps.single.GlobalBestPSO(n_particles=50, dimensions=3, options=options, bounds=bounds_20)"
   ]
  },
  {
   "cell_type": "markdown",
   "metadata": {},
   "source": [
    "With battery"
   ]
  },
  {
   "cell_type": "code",
   "execution_count": 59,
   "metadata": {},
   "outputs": [
    {
     "name": "stderr",
     "output_type": "stream",
     "text": [
      "2022-05-11 20:34:26,694 - pyswarms.single.global_best - INFO - Optimize for 1000 iters with {'c1': 0.5, 'c2': 0.3, 'w': 0.9}\n",
      "pyswarms.single.global_best: 100%|█████████████████████████████████████████████████████████████████████████████████████████████████████████████████████████████████████████████████████|1000/1000, best_cost=0.174\n",
      "2022-05-11 20:34:42,311 - pyswarms.single.global_best - INFO - Optimization finished | best cost: 0.17446990109607652, best pos: [37.04498476 75.44989807  9.86315049]\n"
     ]
    },
    {
     "name": "stdout",
     "output_type": "stream",
     "text": [
      "15.620452165603638\n"
     ]
    }
   ],
   "source": [
    "t1 =  time.time()\n",
    "cost_50_100_with, pos_50_100_with = optimizer_50_with.optimize(opt_func_2, iters=1000)\n",
    "settlement_2_with = find_least_cost_option(pos_50_100_with, temp, ghi_local_2, hour_numbers,\n",
    "                              load_curve_2, inv_eff, n_dis, n_chg, dod_max, settlement_2['energy_demand'], settlement_2['diesel_price'],\n",
    "                              end_year, start_year, pv_cost, charge_controller, pv_om, diesel_cost,\n",
    "                              diesel_om, inverter_life, inverter_cost, diesel_life, pv_life, battery_cost, discount_rate, lpsp_max, diesel_limit, simple=False)\n",
    "t2 =  time.time()\n",
    "print(t2 - t1)"
   ]
  },
  {
   "cell_type": "markdown",
   "metadata": {},
   "source": [
    "Without battery"
   ]
  },
  {
   "cell_type": "code",
   "execution_count": 60,
   "metadata": {},
   "outputs": [
    {
     "name": "stderr",
     "output_type": "stream",
     "text": [
      "2022-05-11 20:34:42,322 - pyswarms.single.global_best - INFO - Optimize for 25 iters with {'c1': 0.5, 'c2': 0.3, 'w': 0.9}\n",
      "pyswarms.single.global_best: 100%|█████████████████████████████████████████████████████████████████████████████████████████████████████████████████████████████████████████████████████████|25/25, best_cost=0.229\n",
      "2022-05-11 20:34:42,538 - pyswarms.single.global_best - INFO - Optimization finished | best cost: 0.22909934447870448, best pos: [55.02642734  0.         20.45050679]\n"
     ]
    },
    {
     "name": "stdout",
     "output_type": "stream",
     "text": [
      "0.21700096130371094\n"
     ]
    }
   ],
   "source": [
    "t1 =  time.time()\n",
    "cost_50_100_without, pos_50_100_without = optimizer_50_without.optimize(opt_func_20, iters=25)\n",
    "settlement_2_without = find_least_cost_option(pos_50_100_without, temp, ghi_local_2, hour_numbers,\n",
    "                              load_curve_2, inv_eff, n_dis, n_chg, dod_max, settlement_2['energy_demand'], settlement_2['diesel_price'],\n",
    "                              end_year, start_year, pv_cost, charge_controller, pv_om, diesel_cost,\n",
    "                              diesel_om, inverter_life, inverter_cost, diesel_life, pv_life, battery_cost, discount_rate, lpsp_max, 1, simple=False)\n",
    "t2 =  time.time()\n",
    "print(t2 - t1)"
   ]
  },
  {
   "cell_type": "markdown",
   "metadata": {},
   "source": [
    "# Comparison with and without battery - Settlement 1"
   ]
  },
  {
   "cell_type": "code",
   "execution_count": 61,
   "metadata": {},
   "outputs": [],
   "source": [
    "optimizer_50_with = ps.single.GlobalBestPSO(n_particles=50, dimensions=3, options=options, bounds=bounds_1)\n",
    "optimizer_50_without = ps.single.GlobalBestPSO(n_particles=50, dimensions=3, options=options, bounds=bounds_10)"
   ]
  },
  {
   "cell_type": "markdown",
   "metadata": {},
   "source": [
    "With battery"
   ]
  },
  {
   "cell_type": "code",
   "execution_count": 62,
   "metadata": {},
   "outputs": [
    {
     "name": "stderr",
     "output_type": "stream",
     "text": [
      "2022-05-11 20:34:42,565 - pyswarms.single.global_best - INFO - Optimize for 1000 iters with {'c1': 0.5, 'c2': 0.3, 'w': 0.9}\n",
      "pyswarms.single.global_best: 100%|█████████████████████████████████████████████████████████████████████████████████████████████████████████████████████████████████████████████████████|1000/1000, best_cost=0.199\n",
      "2022-05-11 20:34:58,339 - pyswarms.single.global_best - INFO - Optimization finished | best cost: 0.19870969134058564, best pos: [ 41.865469   107.9487316   11.62043309]\n"
     ]
    }
   ],
   "source": [
    "cost_50_100_with, pos_50_100_with = optimizer_50_with.optimize(opt_func_1, iters=1000)\n",
    "settlement_1_with = find_least_cost_option(pos_50_100_with, temp, ghi_local_1, hour_numbers,\n",
    "                              load_curve_1, inv_eff, n_dis, n_chg, dod_max, settlement['energy_demand'], settlement['diesel_price'],\n",
    "                              end_year, start_year, pv_cost, charge_controller, pv_om, diesel_cost,\n",
    "                              diesel_om, inverter_life, inverter_cost, diesel_life, pv_life, battery_cost, discount_rate, lpsp_max, diesel_limit, simple=False)"
   ]
  },
  {
   "cell_type": "markdown",
   "metadata": {},
   "source": [
    "Without battery"
   ]
  },
  {
   "cell_type": "code",
   "execution_count": 63,
   "metadata": {},
   "outputs": [
    {
     "name": "stderr",
     "output_type": "stream",
     "text": [
      "2022-05-11 20:34:58,347 - pyswarms.single.global_best - INFO - Optimize for 25 iters with {'c1': 0.5, 'c2': 0.3, 'w': 0.9}\n",
      "pyswarms.single.global_best: 100%|█████████████████████████████████████████████████████████████████████████████████████████████████████████████████████████████████████████████████████████|25/25, best_cost=0.244\n",
      "2022-05-11 20:34:58,645 - pyswarms.single.global_best - INFO - Optimization finished | best cost: 0.2437205224713452, best pos: [20.38908664  0.         32.18791764]\n"
     ]
    }
   ],
   "source": [
    "cost_50_100_without, pos_50_100_without = optimizer_50_without.optimize(opt_func_10, iters=25)\n",
    "settlement_1_without = find_least_cost_option(pos_50_100_without, temp, ghi_local_1, hour_numbers,\n",
    "                              load_curve_1, inv_eff, n_dis, n_chg, dod_max, settlement['energy_demand'], settlement['diesel_price'],\n",
    "                              end_year, start_year, pv_cost, charge_controller, pv_om, diesel_cost,\n",
    "                              diesel_om, inverter_life, inverter_cost, diesel_life, pv_life, battery_cost, discount_rate, lpsp_max, 1, simple=False)"
   ]
  },
  {
   "cell_type": "markdown",
   "metadata": {},
   "source": [
    "# Comparison with and without battery - Settlement 3"
   ]
  },
  {
   "cell_type": "code",
   "execution_count": 64,
   "metadata": {},
   "outputs": [],
   "source": [
    "optimizer_50_with = ps.single.GlobalBestPSO(n_particles=50, dimensions=3, options=options, bounds=bounds_3)\n",
    "optimizer_50_without = ps.single.GlobalBestPSO(n_particles=50, dimensions=3, options=options, bounds=bounds_30)"
   ]
  },
  {
   "cell_type": "markdown",
   "metadata": {},
   "source": [
    "With battery"
   ]
  },
  {
   "cell_type": "code",
   "execution_count": 65,
   "metadata": {},
   "outputs": [
    {
     "name": "stderr",
     "output_type": "stream",
     "text": [
      "2022-05-11 20:34:58,686 - pyswarms.single.global_best - INFO - Optimize for 1000 iters with {'c1': 0.5, 'c2': 0.3, 'w': 0.9}\n",
      "pyswarms.single.global_best: 100%|█████████████████████████████████████████████████████████████████████████████████████████████████████████████████████████████████████████████████████|1000/1000, best_cost=0.166\n",
      "2022-05-11 20:35:18,112 - pyswarms.single.global_best - INFO - Optimization finished | best cost: 0.16648632420551615, best pos: [34.24267329 76.67160941  9.8336071 ]\n"
     ]
    }
   ],
   "source": [
    "cost_50_100_with, pos_50_100_with = optimizer_50_with.optimize(opt_func_3, iters=1000)\n",
    "settlement_3_with = find_least_cost_option(pos_50_100_with, temp, ghi_local_3, hour_numbers,\n",
    "                              load_curve_3, inv_eff, n_dis, n_chg, dod_max, settlement_3['energy_demand'], settlement_3['diesel_price'],\n",
    "                              end_year, start_year, pv_cost, charge_controller, pv_om, diesel_cost,\n",
    "                              diesel_om, inverter_life, inverter_cost, diesel_life, pv_life, battery_cost, discount_rate, lpsp_max, diesel_limit, simple=False)"
   ]
  },
  {
   "cell_type": "markdown",
   "metadata": {},
   "source": [
    "Without battery"
   ]
  },
  {
   "cell_type": "code",
   "execution_count": 66,
   "metadata": {},
   "outputs": [
    {
     "name": "stderr",
     "output_type": "stream",
     "text": [
      "2022-05-11 20:35:18,121 - pyswarms.single.global_best - INFO - Optimize for 25 iters with {'c1': 0.5, 'c2': 0.3, 'w': 0.9}\n",
      "pyswarms.single.global_best: 100%|██████████████████████████████████████████████████████████████████████████████████████████████████████████████████████████████████████████████████████████|25/25, best_cost=0.19\n",
      "2022-05-11 20:35:18,426 - pyswarms.single.global_best - INFO - Optimization finished | best cost: 0.19005671819322542, best pos: [18.62268958  0.         19.25498174]\n"
     ]
    }
   ],
   "source": [
    "cost_50_100_without, pos_50_100_without = optimizer_50_without.optimize(opt_func_30, iters=25)\n",
    "settlement_3_without = find_least_cost_option(pos_50_100_without, temp, ghi_local_3, hour_numbers,\n",
    "                              load_curve_3, inv_eff, n_dis, n_chg, dod_max, settlement_3['energy_demand'], settlement_3['diesel_price'],\n",
    "                              end_year, start_year, pv_cost, charge_controller, pv_om, diesel_cost,\n",
    "                              diesel_om, inverter_life, inverter_cost, diesel_life, pv_life, battery_cost, discount_rate, lpsp_max, 1, simple=False)"
   ]
  },
  {
   "cell_type": "code",
   "execution_count": null,
   "metadata": {},
   "outputs": [],
   "source": []
  },
  {
   "cell_type": "code",
   "execution_count": null,
   "metadata": {},
   "outputs": [],
   "source": []
  },
  {
   "cell_type": "markdown",
   "metadata": {},
   "source": [
    "Outputs:\n",
    "- LCOE\n",
    "- LPSP\n",
    "- Diesel_share\n",
    "- Investment\n",
    "- Battery investment\n",
    "- Fuel cost\n",
    "- OM Cost"
   ]
  },
  {
   "cell_type": "code",
   "execution_count": 67,
   "metadata": {},
   "outputs": [
    {
     "data": {
      "image/png": "[encoded data removed]",
      "text/plain": [
       "<Figure size 432x288 with 1 Axes>"
      ]
     },
     "metadata": {
      "needs_background": "light"
     },
     "output_type": "display_data"
    }
   ],
   "source": [
    "labels = ['Settlement 1 with batteries', 'Settlement 1 without batteries']\n",
    "investments = [settlement_1_with[3], settlement_1_without[3]]\n",
    "om = [settlement_1_with[6], settlement_1_without[6]]\n",
    "fuel_cost = [settlement_1_with[5], settlement_1_without[5]]\n",
    "om_and_investment = [settlement_1_with[6] + settlement_1_with[3], settlement_1_without[6] + settlement_1_without[3]] \n",
    "width = 0.35       # the width of the bars: can also be len(x) sequence\n",
    "\n",
    "fig, ax = plt.subplots()\n",
    "\n",
    "ax.bar(labels, investments, width, label='Investment')\n",
    "ax.bar(labels, om, width, bottom=investments, label='O&M')\n",
    "ax.bar(labels, fuel_cost, width, bottom=om_and_investment, label='Fuel')\n",
    "#ax.bar(labels, fuel_cost, width, label='Fuel')\n",
    "\n",
    "ax.set_ylabel('USD')\n",
    "ax.set_title('Settlement 1')\n",
    "ax.legend()\n",
    "\n",
    "plt.show()"
   ]
  },
  {
   "cell_type": "code",
   "execution_count": 68,
   "metadata": {},
   "outputs": [
    {
     "data": {
      "image/png": "[encoded data removed]",
      "text/plain": [
       "<Figure size 432x288 with 1 Axes>"
      ]
     },
     "metadata": {
      "needs_background": "light"
     },
     "output_type": "display_data"
    }
   ],
   "source": [
    "labels = ['Settlement 2 with batteries', 'Settlement 2 without batteries']\n",
    "investments = [settlement_2_with[3], settlement_2_without[3]]\n",
    "om = [settlement_2_with[6], settlement_2_without[6]]\n",
    "fuel_cost = [settlement_2_with[5], settlement_2_without[5]]\n",
    "om_and_investment = [settlement_2_with[6] + settlement_2_with[3], settlement_2_without[6] + settlement_2_without[3]] \n",
    "width = 0.35       # the width of the bars: can also be len(x) sequence\n",
    "\n",
    "fig, ax = plt.subplots()\n",
    "\n",
    "ax.bar(labels, investments, width, label='Investment')\n",
    "ax.bar(labels, om, width, bottom=investments, label='O&M')\n",
    "ax.bar(labels, fuel_cost, width, bottom=om_and_investment, label='Fuel')\n",
    "#ax.bar(labels, fuel_cost, width, label='Fuel')\n",
    "\n",
    "ax.set_ylabel('USD')\n",
    "ax.set_title('Settlement 2')\n",
    "ax.legend()\n",
    "\n",
    "plt.show()"
   ]
  },
  {
   "cell_type": "code",
   "execution_count": 69,
   "metadata": {},
   "outputs": [
    {
     "data": {
      "image/png": "[encoded data removed]",
      "text/plain": [
       "<Figure size 432x288 with 1 Axes>"
      ]
     },
     "metadata": {
      "needs_background": "light"
     },
     "output_type": "display_data"
    }
   ],
   "source": [
    "labels = ['Settlement 3 with batteries', 'Settlement 3 without batteries']\n",
    "investments = [settlement_3_with[3], settlement_3_without[3]]\n",
    "om = [settlement_3_with[6], settlement_3_without[6]]\n",
    "fuel_cost = [settlement_3_with[5], settlement_3_without[5]]\n",
    "om_and_investment = [settlement_3_with[6] + settlement_3_with[3], settlement_3_without[6] + settlement_3_without[3]] \n",
    "width = 0.35       # the width of the bars: can also be len(x) sequence\n",
    "\n",
    "fig, ax = plt.subplots()\n",
    "\n",
    "ax.bar(labels, investments, width, label='Investment')\n",
    "ax.bar(labels, om, width, bottom=investments, label='O&M')\n",
    "ax.bar(labels, fuel_cost, width, bottom=om_and_investment, label='Fuel')\n",
    "#ax.bar(labels, fuel_cost, width, label='Fuel')\n",
    "\n",
    "ax.set_ylabel('USD')\n",
    "ax.set_title('Settlement 3')\n",
    "ax.legend()\n",
    "\n",
    "plt.show()"
   ]
  },
  {
   "cell_type": "code",
   "execution_count": 70,
   "metadata": {},
   "outputs": [
    {
     "data": {
      "text/plain": [
       "(0.19870969134058564,\n",
       " 0.01999999999999964,\n",
       " 0.2576412786911455,\n",
       " 51534.67710862363,\n",
       " 31260.153526754766,\n",
       " 13110.961393625927,\n",
       " 8189.001790494653,\n",
       " 107.94873160318194,\n",
       " 3,\n",
       " 53.485902086502904)"
      ]
     },
     "execution_count": 70,
     "metadata": {},
     "output_type": "execute_result"
    }
   ],
   "source": [
    "settlement_1_with"
   ]
  },
  {
   "cell_type": "code",
   "execution_count": 21,
   "metadata": {},
   "outputs": [
    {
     "data": {
      "text/plain": [
       "0.19743149008051694"
      ]
     },
     "execution_count": 21,
     "metadata": {},
     "output_type": "execute_result"
    }
   ],
   "source": [
    "settlement_1_with[5] / (settlement_1_with[3] + settlement_1_with[5] + settlement_1_with[6])"
   ]
  },
  {
   "cell_type": "code",
   "execution_count": 22,
   "metadata": {},
   "outputs": [
    {
     "data": {
      "text/plain": [
       "0.38934494415042636"
      ]
     },
     "execution_count": 22,
     "metadata": {},
     "output_type": "execute_result"
    }
   ],
   "source": [
    "settlement_2_with[5] / (settlement_2_with[3] + settlement_2_with[5] + settlement_2_with[6])"
   ]
  },
  {
   "cell_type": "code",
   "execution_count": 23,
   "metadata": {},
   "outputs": [
    {
     "data": {
      "text/plain": [
       "0.0"
      ]
     },
     "execution_count": 23,
     "metadata": {},
     "output_type": "execute_result"
    }
   ],
   "source": [
    "settlement_3_with[5] / (settlement_3_with[3] + settlement_3_with[5] + settlement_3_with[6])"
   ]
  },
  {
   "cell_type": "code",
   "execution_count": 27,
   "metadata": {},
   "outputs": [
    {
     "data": {
      "text/plain": [
       "0.14484255034777607"
      ]
     },
     "execution_count": 27,
     "metadata": {},
     "output_type": "execute_result"
    }
   ],
   "source": [
    "settlement_2_with[0]"
   ]
  },
  {
   "cell_type": "code",
   "execution_count": 83,
   "metadata": {},
   "outputs": [
    {
     "data": {
      "text/plain": [
       "0"
      ]
     },
     "execution_count": 83,
     "metadata": {},
     "output_type": "execute_result"
    }
   ],
   "source": [
    "10 % 10"
   ]
  },
  {
   "cell_type": "code",
   "execution_count": null,
   "metadata": {},
   "outputs": [],
   "source": []
  }
 ],
 "metadata": {
  "kernelspec": {
   "display_name": "Python 3 (ipykernel)",
   "language": "python",
   "name": "python3"
  },
  "language_info": {
   "codemirror_mode": {
    "name": "ipython",
    "version": 3
   },
   "file_extension": ".py",
   "mimetype": "text/x-python",
   "name": "python",
   "nbconvert_exporter": "python",
   "pygments_lexer": "ipython3",
   "version": "3.9.7"
  }
 },
 "nbformat": 4,
 "nbformat_minor": 4
}
